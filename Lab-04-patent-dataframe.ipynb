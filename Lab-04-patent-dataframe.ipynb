{
 "cells": [
  {
   "cell_type": "markdown",
   "metadata": {},
   "source": [
    "# CSCI 4253 / 5253 - Lab #4 - Patent Problem with Spark DataFrames\n",
    "<div>\n",
    " <h2> CSCI 4283 / 5253 \n",
    "  <IMG SRC=\"https://www.colorado.edu/cs/profiles/express/themes/cuspirit/logo.png\" WIDTH=50 ALIGN=\"right\"/> </h2>\n",
    "</div>"
   ]
  },
  {
   "cell_type": "markdown",
   "metadata": {},
   "source": [
    "This [Spark cheatsheet](https://s3.amazonaws.com/assets.datacamp.com/blog_assets/PySpark_SQL_Cheat_Sheet_Python.pdf) is useful as is [this reference on doing joins in Spark dataframe](http://www.learnbymarketing.com/1100/pyspark-joins-by-example/).\n",
    "\n",
    "The [DataBricks company has one of the better reference manuals for PySpark](https://docs.databricks.com/spark/latest/dataframes-datasets/index.html) -- they show you how to perform numerous common data operations such as joins, aggregation operations following `groupBy` and the like."
   ]
  },
  {
   "cell_type": "code",
   "execution_count": 1,
   "metadata": {},
   "outputs": [],
   "source": [
    "from pyspark import SparkContext, SparkConf\n",
    "from pyspark.sql import SparkSession"
   ]
  },
  {
   "cell_type": "markdown",
   "metadata": {},
   "source": [
    "The following aggregation functions may be useful -- [these can be used to aggregate results of `groupby` operations](https://docs.databricks.com/spark/latest/dataframes-datasets/introduction-to-dataframes-python.html#example-aggregations-using-agg-and-countdistinct). More documentation is at the [PySpark SQL Functions manual](https://spark.apache.org/docs/2.3.0/api/python/pyspark.sql.html#module-pyspark.sql.functions). Feel free to use other functions from that library."
   ]
  },
  {
   "cell_type": "code",
   "execution_count": 2,
   "metadata": {},
   "outputs": [],
   "source": [
    "from pyspark.sql.functions import col, count, countDistinct"
   ]
  },
  {
   "cell_type": "markdown",
   "metadata": {},
   "source": [
    "Create our session as described in the tutorials"
   ]
  },
  {
   "cell_type": "code",
   "execution_count": 3,
   "metadata": {},
   "outputs": [],
   "source": [
    "spark = SparkSession \\\n",
    "    .builder \\\n",
    "    .appName(\"Lab4-Dataframe\") \\\n",
    "    .master(\"local[*]\")\\\n",
    "    .getOrCreate()"
   ]
  },
  {
   "cell_type": "markdown",
   "metadata": {},
   "source": [
    "Read in the citations and patents data and check that the data makes sense. Note that unlike in the RDD solution, the data is automatically inferred to be Integer() types."
   ]
  },
  {
   "cell_type": "code",
   "execution_count": 4,
   "metadata": {},
   "outputs": [],
   "source": [
    "citations = spark.read.load('cite75_99.txt.gz',\n",
    "            format=\"csv\", sep=\",\", header=True,\n",
    "            compression=\"gzip\",\n",
    "            inferSchema=\"true\")"
   ]
  },
  {
   "cell_type": "code",
   "execution_count": 5,
   "metadata": {},
   "outputs": [
    {
     "name": "stdout",
     "output_type": "stream",
     "text": [
      "+-------+-------+\n",
      "| CITING|  CITED|\n",
      "+-------+-------+\n",
      "|3858241| 956203|\n",
      "|3858241|1324234|\n",
      "|3858241|3398406|\n",
      "|3858241|3557384|\n",
      "|3858241|3634889|\n",
      "+-------+-------+\n",
      "only showing top 5 rows\n",
      "\n"
     ]
    }
   ],
   "source": [
    "citations.show(5)"
   ]
  },
  {
   "cell_type": "code",
   "execution_count": 6,
   "metadata": {},
   "outputs": [],
   "source": [
    "patents = spark.read.load('apat63_99.txt.gz',\n",
    "            format=\"csv\", sep=\",\", header=True,\n",
    "            compression=\"gzip\",\n",
    "            inferSchema=\"true\")"
   ]
  },
  {
   "cell_type": "code",
   "execution_count": 7,
   "metadata": {},
   "outputs": [
    {
     "name": "stdout",
     "output_type": "stream",
     "text": [
      "+-------+-----+-----+-------+-------+-------+--------+-------+------+------+---+------+-----+--------+--------+-------+--------+--------+--------+--------+--------+--------+--------+\n",
      "| PATENT|GYEAR|GDATE|APPYEAR|COUNTRY|POSTATE|ASSIGNEE|ASSCODE|CLAIMS|NCLASS|CAT|SUBCAT|CMADE|CRECEIVE|RATIOCIT|GENERAL|ORIGINAL|FWDAPLAG|BCKGTLAG|SELFCTUB|SELFCTLB|SECDUPBD|SECDLWBD|\n",
      "+-------+-----+-----+-------+-------+-------+--------+-------+------+------+---+------+-----+--------+--------+-------+--------+--------+--------+--------+--------+--------+--------+\n",
      "|3070801| 1963| 1096|   NULL|     BE|   NULL|    NULL|      1|  NULL|   269|  6|    69| NULL|       1|    NULL|    0.0|    NULL|    NULL|    NULL|    NULL|    NULL|    NULL|    NULL|\n",
      "|3070802| 1963| 1096|   NULL|     US|     TX|    NULL|      1|  NULL|     2|  6|    63| NULL|       0|    NULL|   NULL|    NULL|    NULL|    NULL|    NULL|    NULL|    NULL|    NULL|\n",
      "|3070803| 1963| 1096|   NULL|     US|     IL|    NULL|      1|  NULL|     2|  6|    63| NULL|       9|    NULL| 0.3704|    NULL|    NULL|    NULL|    NULL|    NULL|    NULL|    NULL|\n",
      "|3070804| 1963| 1096|   NULL|     US|     OH|    NULL|      1|  NULL|     2|  6|    63| NULL|       3|    NULL| 0.6667|    NULL|    NULL|    NULL|    NULL|    NULL|    NULL|    NULL|\n",
      "|3070805| 1963| 1096|   NULL|     US|     CA|    NULL|      1|  NULL|     2|  6|    63| NULL|       1|    NULL|    0.0|    NULL|    NULL|    NULL|    NULL|    NULL|    NULL|    NULL|\n",
      "+-------+-----+-----+-------+-------+-------+--------+-------+------+------+---+------+-----+--------+--------+-------+--------+--------+--------+--------+--------+--------+--------+\n",
      "only showing top 5 rows\n",
      "\n"
     ]
    }
   ],
   "source": [
    "patents.show(5)"
   ]
  },
  {
   "cell_type": "code",
   "execution_count": null,
   "metadata": {},
   "outputs": [],
   "source": [
    "from pyspark.sql.functions import coalesce, lit, col, count\n",
    "import builtins\n",
    "patents_clean = patents.select(\n",
    "    col(\"PATENT\"), col(\"GYEAR\"), col(\"GDATE\"), col(\"APPYEAR\"), \n",
    "    col(\"COUNTRY\"), col(\"POSTATE\"), col(\"ASSIGNEE\"), col(\"ASSCODE\"),\n",
    "    col(\"CLAIMS\"), col(\"NCLASS\"), col(\"CAT\"), col(\"SUBCAT\"), \n",
    "    col(\"CMADE\"), col(\"CRECEIVE\"), col(\"RATIOCIT\"), col(\"GENERAL\"),\n",
    "    col(\"ORIGINAL\"), col(\"FWDAPLAG\"), col(\"BCKGTLAG\"), col(\"SELFCTUB\"),\n",
    "    col(\"SELFCTLB\"), col(\"SECDUPBD\"), col(\"SECDLWBD\")\n",
    ").filter(\n",
    "    (col(\"COUNTRY\") == \"US\") & \n",
    "    (col(\"POSTATE\").isNotNull()) & \n",
    "    (col(\"POSTATE\") != \"\")\n",
    ")\n",
    "\n",
    "#Creating patent-state lookup\n",
    "patent_states = patents_clean.select(\"PATENT\", \"POSTATE\").cache()\n",
    "\n",
    "# Joining citations with citing patent states\n",
    "citations_with_citing_state = citations.alias(\"c\") \\\n",
    "    .join(patent_states.alias(\"p1\"), col(\"c.CITING\") == col(\"p1.PATENT\"), \"inner\") \\\n",
    "    .select(\n",
    "        col(\"c.CITING\"),\n",
    "        col(\"c.CITED\"),\n",
    "        col(\"p1.POSTATE\").alias(\"CITING_STATE\")\n",
    "    )\n",
    "\n",
    "# Joining with cited patent states\n",
    "citations_with_both_states = citations_with_citing_state.alias(\"ccs\") \\\n",
    "    .join(patent_states.alias(\"p2\"), col(\"ccs.CITED\") == col(\"p2.PATENT\"), \"inner\") \\\n",
    "    .select(\n",
    "        col(\"ccs.CITING\"),\n",
    "        col(\"ccs.CITED\"),\n",
    "        col(\"ccs.CITING_STATE\"),\n",
    "        col(\"p2.POSTATE\").alias(\"CITED_STATE\")\n",
    "    )\n",
    "\n",
    "# Filtering for same-state citations and count\n",
    "same_state_citations = citations_with_both_states \\\n",
    "    .filter(col(\"CITING_STATE\") == col(\"CITED_STATE\")) \\\n",
    "    .groupBy(\"CITING\") \\\n",
    "    .agg(count(\"*\").alias(\"SAME_STATE\"))\n",
    "\n",
    "# Creating final_result DataFrame \n",
    "final_result = patents_clean.alias(\"p\") \\\n",
    "    .join(same_state_citations.alias(\"s\"), col(\"p.PATENT\") == col(\"s.CITING\"), \"left\") \\\n",
    "    .select(\n",
    "        col(\"p.*\"),\n",
    "        coalesce(col(\"s.SAME_STATE\"), lit(0)).alias(\"SAME_STATE\")\n",
    "    ) \\\n",
    "    .orderBy(col(\"SAME_STATE\").desc(), col(\"PATENT\").asc()) \\\n",
    "    .limit(12)\n",
    "\n",
    "print(\"final_result DataFrame created successfully!\")\n",
    "\n",
    "results = final_result.collect()\n",
    "headers = ['PATENT', 'GYEAR', 'GDATE', 'APPYEAR', 'COUNTRY', 'POSTATE', 'ASSIGNEE', 'ASSCODE', \n",
    "           'CLAIMS', 'NCLASS', 'CAT', 'SUBCAT', 'CMADE', 'CRECEIVE', 'RATIOCIT', 'GENERAL', \n",
    "           'ORIGINAL', 'FWDAPLAG', 'BCKGTLAG', 'SELFCTUB', 'SELFCTLB', 'SECDUPBD', 'SECDLWBD', 'SAME_STATE']\n",
    "col_widths = [8, 6, 8, 8, 8, 8, 12, 8, 7, 7, 5, 7, 7, 9, 9, 9, 9, 9, 9, 9, 9, 9, 9, 11]\n",
    "\n",
    "# Printing header\n",
    "header_line = \"\"\n",
    "for i, header in enumerate(headers):\n",
    "    header_line += f\"{header:<{col_widths[i]}}\"\n",
    "print(header_line)\n",
    "print(\"-\" * builtins.sum(col_widths))\n",
    "\n",
    "# Print data rows\n",
    "for row in results:\n",
    "    assignee_str = str(row.ASSIGNEE) if row.ASSIGNEE is not None else 'null'\n",
    "    assignee_short = assignee_str[:12] if len(assignee_str) > 10 else assignee_str\n",
    "    \n",
    "    values = [\n",
    "        row.PATENT, row.GYEAR, row.GDATE, row.APPYEAR, row.COUNTRY, row.POSTATE,\n",
    "        assignee_short, row.ASSCODE, row.CLAIMS, row.NCLASS, row.CAT, row.SUBCAT, \n",
    "        row.CMADE, row.CRECEIVE, \n",
    "        f\"{row.RATIOCIT:.4f}\" if row.RATIOCIT is not None else 'null',\n",
    "        f\"{row.GENERAL:.4f}\" if row.GENERAL is not None else 'null',\n",
    "        f\"{row.ORIGINAL:.4f}\" if row.ORIGINAL is not None else 'null',\n",
    "        f\"{row.FWDAPLAG:.4f}\" if row.FWDAPLAG is not None else 'null',\n",
    "        f\"{row.BCKGTLAG:.4f}\" if row.BCKGTLAG is not None else 'null',\n",
    "        f\"{row.SELFCTUB:.4f}\" if row.SELFCTUB is not None else 'null',\n",
    "        f\"{row.SELFCTLB:.4f}\" if row.SELFCTLB is not None else 'null',\n",
    "        f\"{row.SECDUPBD:.4f}\" if row.SECDUPBD is not None else 'null',\n",
    "        f\"{row.SECDLWBD:.4f}\" if row.SECDLWBD is not None else 'null',\n",
    "        row.SAME_STATE\n",
    "    ]\n",
    "    \n",
    "    row_line = \"\"\n",
    "    for i, value in enumerate(values):\n",
    "        str_val = str(value) if value is not None else 'null'\n",
    "        if len(str_val) > col_widths[i] - 1:\n",
    "            str_val = str_val[:col_widths[i] - 3] + \"..\"\n",
    "        row_line += f\"{str_val:<{col_widths[i]}}\"\n",
    "    print(row_line)\n",
    "\n",
    "spark.stop()"
   ]
  },
  {
   "cell_type": "code",
   "execution_count": 8,
   "metadata": {},
   "outputs": [
    {
     "name": "stdout",
     "output_type": "stream",
     "text": [
      "+-------+-------+------------+\n",
      "|  CITED| CITING|CITING_STATE|\n",
      "+-------+-------+------------+\n",
      "|1331793|3858258|          CA|\n",
      "|1540798|3858258|          CA|\n",
      "| 924225|3858527|        NULL|\n",
      "|2444326|3858527|        NULL|\n",
      "|2705120|3858527|        NULL|\n",
      "|2967080|3858527|        NULL|\n",
      "|3602157|3858527|        NULL|\n",
      "|3638586|3858527|        NULL|\n",
      "|3699902|3858527|        NULL|\n",
      "| 957631|3858560|          IN|\n",
      "|3675252|3858597|          MT|\n",
      "|3815160|3858597|          MT|\n",
      "|2290722|3858770|          CA|\n",
      "|2777621|3858770|          CA|\n",
      "|2782969|3858770|          CA|\n",
      "|3040941|3858770|          CA|\n",
      "| 982044|3859029|          NY|\n",
      "|1020004|3859029|          NY|\n",
      "|1830227|3859029|          NY|\n",
      "|2752631|3859029|          NY|\n",
      "+-------+-------+------------+\n",
      "only showing top 20 rows\n",
      "\n"
     ]
    }
   ],
   "source": [
    "citing = citations.join(patents, citations[\"CITING\"] == patents[\"PATENT\"], how=\"left\").cache()\n",
    "citing = citing.select(\"CITED\", \"CITING\", col(\"POSTATE\").alias(\"CITING_STATE\"))\n",
    "citing.show()"
   ]
  },
  {
   "cell_type": "code",
   "execution_count": 13,
   "metadata": {},
   "outputs": [
    {
     "name": "stdout",
     "output_type": "stream",
     "text": [
      "+-------+------------+-----+-----------+\n",
      "| CITING|CITING_STATE|CITED|CITED_STATE|\n",
      "+-------+------------+-----+-----------+\n",
      "|4305315|          MN| 2366|       NULL|\n",
      "|4192521|        NULL| 2366|       NULL|\n",
      "|4253355|          MN| 2366|       NULL|\n",
      "|5580635|          WI| 5156|       NULL|\n",
      "|4976561|        NULL| 5518|       NULL|\n",
      "|4480374|          MN| 5803|       NULL|\n",
      "|5123817|        NULL| 6620|       NULL|\n",
      "|4115020|        NULL| 7240|       NULL|\n",
      "|4727698|          CA| 7253|       NULL|\n",
      "|4360982|          IA| 7340|       NULL|\n",
      "|4108250|          IL| 7340|       NULL|\n",
      "|5692807|          PA|10817|       NULL|\n",
      "|5581904|        NULL|11458|       NULL|\n",
      "|4282613|          MI|12940|       NULL|\n",
      "|4741426|          NY|13840|       NULL|\n",
      "|4705153|          NY|13840|       NULL|\n",
      "|4556218|          FL|14832|       NULL|\n",
      "|4896714|        NULL|15447|       NULL|\n",
      "|5065652|          OH|15790|       NULL|\n",
      "|5058476|          OH|15790|       NULL|\n",
      "+-------+------------+-----+-----------+\n",
      "only showing top 20 rows\n",
      "\n"
     ]
    }
   ],
   "source": [
    "res = citing.join(patents, citing[\"CITED\"] == patents[\"PATENT\"], how=\"left\").cache()\n",
    "res = res.select(\"CITING\", \"CITING_STATE\", \"CITED\", col(\"POSTATE\").alias(\"CITED_STATE\"))\n",
    "res.show()"
   ]
  },
  {
   "cell_type": "code",
   "execution_count": 15,
   "metadata": {},
   "outputs": [
    {
     "name": "stdout",
     "output_type": "stream",
     "text": [
      "+-------+-----+\n",
      "| CITING|count|\n",
      "+-------+-----+\n",
      "|5300411|    7|\n",
      "|3956677|    1|\n",
      "|4171110|    4|\n",
      "|4031936|    2|\n",
      "|3894399|    3|\n",
      "|4761449|    1|\n",
      "|4369612|    3|\n",
      "|4052003|    4|\n",
      "|4151539|    2|\n",
      "|4414386|    1|\n",
      "|4868906|    2|\n",
      "|4339036|    2|\n",
      "|4668726|   13|\n",
      "|5279306|    7|\n",
      "|4608206|    5|\n",
      "|4673168|    2|\n",
      "|4923281|    8|\n",
      "|5912450|   15|\n",
      "|4559622|    7|\n",
      "|4841690|    4|\n",
      "+-------+-----+\n",
      "only showing top 20 rows\n",
      "\n"
     ]
    }
   ],
   "source": [
    "res = res.filter(col(\"CITING_STATE\").isNotNull() & col(\"CITED_STATE\").isNotNull())\n",
    "res = res.filter(col(\"CITING_STATE\") == col(\"CITED_STATE\"))\n",
    "citing_counts = res.groupby(\"CITING\").count()\n",
    "citing_counts.show()"
   ]
  },
  {
   "cell_type": "code",
   "execution_count": 16,
   "metadata": {},
   "outputs": [],
   "source": [
    "Output = patents.join(citing_counts, patents[\"PATENT\"] == citing_counts[\"CITING\"], how=\"left\").cache()"
   ]
  },
  {
   "cell_type": "code",
   "execution_count": 18,
   "metadata": {},
   "outputs": [
    {
     "name": "stdout",
     "output_type": "stream",
     "text": [
      "+-------+-----+-----+-------+-------+-------+--------+-------+------+------+---+------+-----+--------+--------+-------+--------+--------+--------+--------+--------+--------+--------+-------+-----+\n",
      "| PATENT|GYEAR|GDATE|APPYEAR|COUNTRY|POSTATE|ASSIGNEE|ASSCODE|CLAIMS|NCLASS|CAT|SUBCAT|CMADE|CRECEIVE|RATIOCIT|GENERAL|ORIGINAL|FWDAPLAG|BCKGTLAG|SELFCTUB|SELFCTLB|SECDUPBD|SECDLWBD| CITING|count|\n",
      "+-------+-----+-----+-------+-------+-------+--------+-------+------+------+---+------+-----+--------+--------+-------+--------+--------+--------+--------+--------+--------+--------+-------+-----+\n",
      "|5959466| 1999|14515|   1997|     US|     CA|    5310|      2|  NULL|   326|  4|    46|  159|       0|     1.0|   NULL|  0.6186|    NULL|  4.8868|  0.0455|   0.044|    NULL|    NULL|5959466|  125|\n",
      "|5983822| 1999|14564|   1998|     US|     TX|  569900|      2|  NULL|   114|  5|    55|  200|       0|   0.995|   NULL|  0.7201|    NULL|   12.45|     0.0|     0.0|    NULL|    NULL|5983822|  103|\n",
      "|6008204| 1999|14606|   1998|     US|     CA|  749584|      2|  NULL|   514|  3|    31|  121|       0|     1.0|   NULL|  0.7415|    NULL|     5.0|  0.0085|  0.0083|    NULL|    NULL|6008204|  100|\n",
      "|5952345| 1999|14501|   1997|     US|     CA|  749584|      2|  NULL|   514|  3|    31|  118|       0|     1.0|   NULL|  0.7442|    NULL|  5.1102|     0.0|     0.0|    NULL|    NULL|5952345|   98|\n",
      "|5958954| 1999|14515|   1997|     US|     CA|  749584|      2|  NULL|   514|  3|    31|  116|       0|     1.0|   NULL|  0.7397|    NULL|   5.181|     0.0|     0.0|    NULL|    NULL|5958954|   96|\n",
      "|5998655| 1999|14585|   1998|     US|     CA|    NULL|      1|  NULL|   560|  1|    14|  114|       0|     1.0|   NULL|  0.7387|    NULL|  5.1667|    NULL|    NULL|    NULL|    NULL|5998655|   96|\n",
      "|5936426| 1999|14466|   1997|     US|     CA|    5310|      2|  NULL|   326|  4|    46|  178|       0|     1.0|   NULL|    0.58|    NULL| 11.2303|  0.0765|   0.073|    NULL|    NULL|5936426|   94|\n",
      "|5913855| 1999|14417|   1997|     US|     CA|  733846|      2|  NULL|   606|  3|    32|  242|       0|     1.0|   NULL|  0.7403|    NULL|  8.3595|     0.0|     0.0|    NULL|    NULL|5913855|   90|\n",
      "|5980517| 1999|14557|   1998|     US|     CA|  733846|      2|  NULL|   606|  3|    32|  241|       0|     1.0|   NULL|  0.7394|    NULL|  8.3776|     0.0|     0.0|    NULL|    NULL|5980517|   90|\n",
      "|5978329| 1999|14550|   1995|     US|     CA|  148925|      2|  NULL|   369|  2|    24|  145|       0|     1.0|   NULL|  0.5449|    NULL| 12.9241|  0.4196|  0.4138|    NULL|    NULL|5978329|   90|\n",
      "|5739256| 1998|13983|   1995|     US|     CA|   70060|      2|    15|   528|  1|    15|  453|       0|     1.0|   NULL|  0.8232|    NULL| 15.1104|  0.1124|  0.1082|    NULL|    NULL|5739256|   90|\n",
      "|5951547| 1999|14501|   1997|     US|     CA|  733846|      2|  NULL|   606|  3|    32|  242|       0|     1.0|   NULL|  0.7382|    NULL|  8.3471|     0.0|     0.0|    NULL|    NULL|5951547|   90|\n",
      "+-------+-----+-----+-------+-------+-------+--------+-------+------+------+---+------+-----+--------+--------+-------+--------+--------+--------+--------+--------+--------+--------+-------+-----+\n",
      "only showing top 12 rows\n",
      "\n"
     ]
    }
   ],
   "source": [
    "Output.orderBy(col(\"count\"), ascending=False).fillna(0,[\"count\"]).show(12)"
   ]
  }
 ],
 "metadata": {
  "kernelspec": {
   "display_name": "Python 3 (ipykernel)",
   "language": "python",
   "name": "python3"
  },
  "language_info": {
   "codemirror_mode": {
    "name": "ipython",
    "version": 3
   },
   "file_extension": ".py",
   "mimetype": "text/x-python",
   "name": "python",
   "nbconvert_exporter": "python",
   "pygments_lexer": "ipython3",
   "version": "3.11.9"
  }
 },
 "nbformat": 4,
 "nbformat_minor": 4
}
