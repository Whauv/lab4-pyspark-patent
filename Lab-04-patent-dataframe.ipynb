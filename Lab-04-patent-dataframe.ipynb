{
 "cells": [
  {
   "cell_type": "markdown",
   "metadata": {},
   "source": [
    "# CSCI 4253 / 5253 - Lab #4 - Patent Problem with Spark DataFrames\n",
    "<div>\n",
    " <h2> CSCI 4283 / 5253 \n",
    "  <IMG SRC=\"https://www.colorado.edu/cs/profiles/express/themes/cuspirit/logo.png\" WIDTH=50 ALIGN=\"right\"/> </h2>\n",
    "</div>"
   ]
  },
  {
   "cell_type": "markdown",
   "metadata": {},
   "source": [
    "This [Spark cheatsheet](https://s3.amazonaws.com/assets.datacamp.com/blog_assets/PySpark_SQL_Cheat_Sheet_Python.pdf) is useful as is [this reference on doing joins in Spark dataframe](http://www.learnbymarketing.com/1100/pyspark-joins-by-example/).\n",
    "\n",
    "The [DataBricks company has one of the better reference manuals for PySpark](https://docs.databricks.com/spark/latest/dataframes-datasets/index.html) -- they show you how to perform numerous common data operations such as joins, aggregation operations following `groupBy` and the like."
   ]
  },
  {
   "cell_type": "code",
   "execution_count": 1,
   "metadata": {},
   "outputs": [],
   "source": [
    "from pyspark import SparkContext, SparkConf\n",
    "from pyspark.sql import SparkSession"
   ]
  },
  {
   "cell_type": "markdown",
   "metadata": {},
   "source": [
    "The following aggregation functions may be useful -- [these can be used to aggregate results of `groupby` operations](https://docs.databricks.com/spark/latest/dataframes-datasets/introduction-to-dataframes-python.html#example-aggregations-using-agg-and-countdistinct). More documentation is at the [PySpark SQL Functions manual](https://spark.apache.org/docs/2.3.0/api/python/pyspark.sql.html#module-pyspark.sql.functions). Feel free to use other functions from that library."
   ]
  },
  {
   "cell_type": "code",
   "execution_count": 2,
   "metadata": {},
   "outputs": [],
   "source": [
    "from pyspark.sql.functions import col, count, countDistinct"
   ]
  },
  {
   "cell_type": "markdown",
   "metadata": {},
   "source": [
    "Create our session as described in the tutorials"
   ]
  },
  {
   "cell_type": "code",
   "execution_count": 3,
   "metadata": {},
   "outputs": [],
   "source": [
    "spark = SparkSession \\\n",
    "    .builder \\\n",
    "    .appName(\"Lab4-Dataframe\") \\\n",
    "    .master(\"local[*]\")\\\n",
    "    .getOrCreate()"
   ]
  },
  {
   "cell_type": "markdown",
   "metadata": {},
   "source": [
    "Read in the citations and patents data and check that the data makes sense. Note that unlike in the RDD solution, the data is automatically inferred to be Integer() types."
   ]
  },
  {
   "cell_type": "code",
   "execution_count": 4,
   "metadata": {},
   "outputs": [],
   "source": [
    "citations = spark.read.load('cite75_99.txt.gz',\n",
    "            format=\"csv\", sep=\",\", header=True,\n",
    "            compression=\"gzip\",\n",
    "            inferSchema=\"true\")"
   ]
  },
  {
   "cell_type": "code",
   "execution_count": 5,
   "metadata": {},
   "outputs": [
    {
     "name": "stdout",
     "output_type": "stream",
     "text": [
      "+-------+-------+\n",
      "| CITING|  CITED|\n",
      "+-------+-------+\n",
      "|3858241| 956203|\n",
      "|3858241|1324234|\n",
      "|3858241|3398406|\n",
      "|3858241|3557384|\n",
      "|3858241|3634889|\n",
      "+-------+-------+\n",
      "only showing top 5 rows\n",
      "\n"
     ]
    }
   ],
   "source": [
    "citations.show(5)"
   ]
  },
  {
   "cell_type": "code",
   "execution_count": 6,
   "metadata": {},
   "outputs": [],
   "source": [
    "patents = spark.read.load('apat63_99.txt.gz',\n",
    "            format=\"csv\", sep=\",\", header=True,\n",
    "            compression=\"gzip\",\n",
    "            inferSchema=\"true\")"
   ]
  },
  {
   "cell_type": "code",
   "execution_count": 7,
   "metadata": {},
   "outputs": [
    {
     "name": "stdout",
     "output_type": "stream",
     "text": [
      "+-------+-----+-----+-------+-------+-------+--------+-------+------+------+---+------+-----+--------+--------+-------+--------+--------+--------+--------+--------+--------+--------+\n",
      "| PATENT|GYEAR|GDATE|APPYEAR|COUNTRY|POSTATE|ASSIGNEE|ASSCODE|CLAIMS|NCLASS|CAT|SUBCAT|CMADE|CRECEIVE|RATIOCIT|GENERAL|ORIGINAL|FWDAPLAG|BCKGTLAG|SELFCTUB|SELFCTLB|SECDUPBD|SECDLWBD|\n",
      "+-------+-----+-----+-------+-------+-------+--------+-------+------+------+---+------+-----+--------+--------+-------+--------+--------+--------+--------+--------+--------+--------+\n",
      "|3070801| 1963| 1096|   NULL|     BE|   NULL|    NULL|      1|  NULL|   269|  6|    69| NULL|       1|    NULL|    0.0|    NULL|    NULL|    NULL|    NULL|    NULL|    NULL|    NULL|\n",
      "|3070802| 1963| 1096|   NULL|     US|     TX|    NULL|      1|  NULL|     2|  6|    63| NULL|       0|    NULL|   NULL|    NULL|    NULL|    NULL|    NULL|    NULL|    NULL|    NULL|\n",
      "|3070803| 1963| 1096|   NULL|     US|     IL|    NULL|      1|  NULL|     2|  6|    63| NULL|       9|    NULL| 0.3704|    NULL|    NULL|    NULL|    NULL|    NULL|    NULL|    NULL|\n",
      "|3070804| 1963| 1096|   NULL|     US|     OH|    NULL|      1|  NULL|     2|  6|    63| NULL|       3|    NULL| 0.6667|    NULL|    NULL|    NULL|    NULL|    NULL|    NULL|    NULL|\n",
      "|3070805| 1963| 1096|   NULL|     US|     CA|    NULL|      1|  NULL|     2|  6|    63| NULL|       1|    NULL|    0.0|    NULL|    NULL|    NULL|    NULL|    NULL|    NULL|    NULL|\n",
      "+-------+-----+-----+-------+-------+-------+--------+-------+------+------+---+------+-----+--------+--------+-------+--------+--------+--------+--------+--------+--------+--------+\n",
      "only showing top 5 rows\n",
      "\n"
     ]
    }
   ],
   "source": [
    "patents.show(5)"
   ]
  },
  {
   "cell_type": "code",
   "execution_count": 18,
   "metadata": {},
   "outputs": [
    {
     "name": "stdout",
     "output_type": "stream",
     "text": [
      "PATENT  GYEAR GDATE   APPYEAR COUNTRY POSTATE ASSIGNEE    ASSCODE CLAIMS NCLASS CAT  SUBCAT CMADE  CRECEIVE RATIOCIT GENERAL  ORIGINAL FWDAPLAG BCKGTLAG SELFCTUB SELFCTLB SECDUPBD SECDLWBD SAME_STATE \n",
      "--------------------------------------------------------------------------------------------------------------------------------------------------------------------------------------------------------\n",
      "5959466 1999  14515   1997    US      CA      5310        2       null   326    4    46     159    0        1.0000   null     0.6186   null     4.8868   0.0455   0.0440   null     null     125        \n",
      "5983822 1999  14564   1998    US      TX      569900      2       null   114    5    55     200    0        0.9950   null     0.7201   null     12.4500  0.0000   0.0000   null     null     103        \n",
      "6008204 1999  14606   1998    US      CA      749584      2       null   514    3    31     121    0        1.0000   null     0.7415   null     5.0000   0.0085   0.0083   null     null     100        \n",
      "5952345 1999  14501   1997    US      CA      749584      2       null   514    3    31     118    0        1.0000   null     0.7442   null     5.1102   0.0000   0.0000   null     null     98         \n",
      "5958954 1999  14515   1997    US      CA      749584      2       null   514    3    31     116    0        1.0000   null     0.7397   null     5.1810   0.0000   0.0000   null     null     96         \n",
      "5998655 1999  14585   1998    US      CA      null        1       null   560    1    14     114    0        1.0000   null     0.7387   null     5.1667   null     null     null     null     96         \n",
      "5936426 1999  14466   1997    US      CA      5310        2       null   326    4    46     178    0        1.0000   null     0.5800   null     11.2303  0.0765   0.0730   null     null     94         \n",
      "5739256 1998  13983   1995    US      CA      70060       2       15     528    1    15     453    0        1.0000   null     0.8232   null     15.1104  0.1124   0.1082   null     null     90         \n",
      "5913855 1999  14417   1997    US      CA      733846      2       null   606    3    32     242    0        1.0000   null     0.7403   null     8.3595   0.0000   0.0000   null     null     90         \n",
      "5925042 1999  14445   1997    US      CA      733846      2       null   606    3    32     242    0        1.0000   null     0.7382   null     8.3471   0.0000   0.0000   null     null     90         \n",
      "only showing top 10 rows\n"
     ]
    }
   ],
   "source": [
    "# Step 8: Custom formatted display (CORRECTED VERSION)\n",
    "results = final_result.collect()\n",
    "\n",
    "headers = ['PATENT', 'GYEAR', 'GDATE', 'APPYEAR', 'COUNTRY', 'POSTATE', 'ASSIGNEE', 'ASSCODE', \n",
    "           'CLAIMS', 'NCLASS', 'CAT', 'SUBCAT', 'CMADE', 'CRECEIVE', 'RATIOCIT', 'GENERAL', \n",
    "           'ORIGINAL', 'FWDAPLAG', 'BCKGTLAG', 'SELFCTUB', 'SELFCTLB', 'SECDUPBD', 'SECDLWBD', 'SAME_STATE']\n",
    "\n",
    "col_widths = [8, 6, 8, 8, 8, 8, 12, 8, 7, 7, 5, 7, 7, 9, 9, 9, 9, 9, 9, 9, 9, 9, 9, 11]\n",
    "\n",
    "# Print header\n",
    "header_line = \"\"\n",
    "for i, header in enumerate(headers):\n",
    "    header_line += f\"{header:<{col_widths[i]}}\"\n",
    "print(header_line)\n",
    "print(\"-\" * builtins.sum(col_widths))  # Use builtins.sum() to avoid PySpark's sum()\n",
    "\n",
    "# Print data rows - FIXED VERSION\n",
    "for row in results:\n",
    "    # Fix ASSIGNEE field: convert to string first, then truncate if needed\n",
    "    assignee_str = str(row.ASSIGNEE) if row.ASSIGNEE is not None else 'null'\n",
    "    assignee_short = assignee_str[:10] if len(assignee_str) > 10 else assignee_str\n",
    "    \n",
    "    values = [\n",
    "        row.PATENT, \n",
    "        row.GYEAR, \n",
    "        row.GDATE, \n",
    "        row.APPYEAR, \n",
    "        row.COUNTRY, \n",
    "        row.POSTATE,\n",
    "        assignee_short,  # FIXED: Use processed assignee string\n",
    "        row.ASSCODE, \n",
    "        row.CLAIMS,\n",
    "        row.NCLASS, \n",
    "        row.CAT, \n",
    "        row.SUBCAT, \n",
    "        row.CMADE, \n",
    "        row.CRECEIVE, \n",
    "        f\"{row.RATIOCIT:.4f}\" if row.RATIOCIT is not None else 'null',\n",
    "        f\"{row.GENERAL:.4f}\" if row.GENERAL is not None else 'null',\n",
    "        f\"{row.ORIGINAL:.4f}\" if row.ORIGINAL is not None else 'null',\n",
    "        f\"{row.FWDAPLAG:.4f}\" if row.FWDAPLAG is not None else 'null',\n",
    "        f\"{row.BCKGTLAG:.4f}\" if row.BCKGTLAG is not None else 'null',\n",
    "        f\"{row.SELFCTUB:.4f}\" if row.SELFCTUB is not None else 'null',\n",
    "        f\"{row.SELFCTLB:.4f}\" if row.SELFCTLB is not None else 'null',\n",
    "        f\"{row.SECDUPBD:.4f}\" if row.SECDUPBD is not None else 'null',\n",
    "        f\"{row.SECDLWBD:.4f}\" if row.SECDLWBD is not None else 'null',\n",
    "        row.SAME_STATE\n",
    "    ]\n",
    "    \n",
    "    # Format each column with proper width\n",
    "    row_line = \"\"\n",
    "    for i, value in enumerate(values):\n",
    "        str_val = str(value) if value is not None else 'null'\n",
    "        if len(str_val) > col_widths[i] - 1:\n",
    "            str_val = str_val[:col_widths[i] - 3] + \"..\"\n",
    "        row_line += f\"{str_val:<{col_widths[i]}}\"\n",
    "    print(row_line)\n",
    "\n",
    "print(\"only showing top 10 rows\")"
   ]
  }
 ],
 "metadata": {
  "kernelspec": {
   "display_name": "Python 3 (ipykernel)",
   "language": "python",
   "name": "python3"
  },
  "language_info": {
   "codemirror_mode": {
    "name": "ipython",
    "version": 3
   },
   "file_extension": ".py",
   "mimetype": "text/x-python",
   "name": "python",
   "nbconvert_exporter": "python",
   "pygments_lexer": "ipython3",
   "version": "3.11.9"
  }
 },
 "nbformat": 4,
 "nbformat_minor": 4
}
